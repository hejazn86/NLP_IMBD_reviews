{
  "nbformat": 4,
  "nbformat_minor": 0,
  "metadata": {
    "colab": {
      "name": "main_NLP_notebook.ipynb",
      "provenance": [],
      "authorship_tag": "ABX9TyOARHiUQlOS6yaD+6gF/84Q",
      "include_colab_link": true
    },
    "kernelspec": {
      "name": "python3",
      "display_name": "Python 3"
    }
  },
  "cells": [
    {
      "cell_type": "markdown",
      "metadata": {
        "id": "view-in-github",
        "colab_type": "text"
      },
      "source": [
        "<a href=\"https://colab.research.google.com/github/hejazn86/NLP_IMBD_reviews/blob/master/main_NLP_notebook.ipynb\" target=\"_parent\"><img src=\"https://colab.research.google.com/assets/colab-badge.svg\" alt=\"Open In Colab\"/></a>"
      ]
    },
    {
      "cell_type": "code",
      "metadata": {
        "id": "6B7P-OZNonui",
        "colab_type": "code",
        "colab": {
          "base_uri": "https://localhost:8080/",
          "height": 51
        },
        "outputId": "64d453ce-3284-457f-91be-9685cf3b812a"
      },
      "source": [
        "#importing libraries\n",
        "import tensorflow as tf\n",
        "import tensorflow_datasets as tfds\n",
        "print(tf.__version__)\n",
        "print(tfds.__version__)"
      ],
      "execution_count": 14,
      "outputs": [
        {
          "output_type": "stream",
          "text": [
            "2.2.0\n",
            "2.1.0\n"
          ],
          "name": "stdout"
        }
      ]
    },
    {
      "cell_type": "code",
      "metadata": {
        "id": "8xZFejZTpqTi",
        "colab_type": "code",
        "colab": {
          "base_uri": "https://localhost:8080/",
          "height": 88
        },
        "outputId": "45218682-43e3-41c1-979c-79e2e7f08fce"
      },
      "source": [
        "#importing the data from tensorflow_datasets\n",
        "import numpy as np\n",
        "\n",
        "imbd, info = tfds.load(\"imdb_reviews\", with_info= True, as_supervised=True)\n",
        "train_set, test_set = imbd['train'], imbd['test']\n",
        "\n",
        "print(train_set)\n",
        "\n",
        "train_sentences = []\n",
        "train_labels = []\n",
        "\n",
        "test_sentences = []\n",
        "test_labels = []\n",
        "\n",
        "for s, l in train_set :\n",
        "  train_sentences.append(s.numpy().decode('utf8'))\n",
        "  train_labels.append(l.numpy())\n",
        "\n",
        "for s, l in test_set:\n",
        "  test_sentences.append(s.numpy().decode('utf8'))\n",
        "  test_labels.append(l.numpy())\n",
        "\n",
        "\n",
        "train_sentences = np.array(train_sentences)\n",
        "test_sentences = np.array(test_sentences)\n",
        "train_labels = np.array(train_labels)\n",
        "test_labels = np.array(test_labels)\n",
        "print(train_labels.shape)\n",
        "print(train_sentences[0])"
      ],
      "execution_count": 16,
      "outputs": [
        {
          "output_type": "stream",
          "text": [
            "<DatasetV1Adapter shapes: ((), ()), types: (tf.string, tf.int64)>\n",
            "(25000,)\n",
            "This was an absolutely terrible movie. Don't be lured in by Christopher Walken or Michael Ironside. Both are great actors, but this must simply be their worst role in history. Even their great acting could not redeem this movie's ridiculous storyline. This movie is an early nineties US propaganda piece. The most pathetic scenes were those when the Columbian rebels were making their cases for revolutions. Maria Conchita Alonso appeared phony, and her pseudo-love affair with Walken was nothing but a pathetic emotional plug in a movie that was devoid of any real meaning. I am disappointed that there are movies like this, ruining actor's like Christopher Walken's good name. I could barely sit through it.\n"
          ],
          "name": "stdout"
        }
      ]
    },
    {
      "cell_type": "code",
      "metadata": {
        "id": "h-eocTbDkJ5S",
        "colab_type": "code",
        "colab": {}
      },
      "source": [
        "from tensorflow.keras.preprocessing.text import Tokenizer\n",
        "from tensorflow.keras.preprocessing.sequence import pad_sequences\n",
        "\n",
        "num_words= 10000\n",
        "embadding_output_dim = 15\n",
        "\n",
        "tokenizer = Tokenizer(num_words= num_words, oov_token = 'unkw')\n",
        "tokenizer.fit_on_texts(train_sentences)\n",
        "word_index = tokenizer.word_index\n",
        "train_sequences = tokenizer.texts_to_sequences(train_sentences)\n",
        "train_padded_sequences = pad_sequences(train_sequences, maxlen=150, padding='post', truncating='post')\n",
        "\n",
        "test_sequences = tokenizer.texts_to_sequences(test_sentences)\n",
        "test_padded_sequences = pad_sequences(test_sequences, maxlen=150, padding='post', truncating='post')"
      ],
      "execution_count": 17,
      "outputs": []
    },
    {
      "cell_type": "code",
      "metadata": {
        "id": "f2HhZjcpPJzL",
        "colab_type": "code",
        "colab": {}
      },
      "source": [
        "model = tf.keras.models.Sequential([\n",
        "        tf.keras.layers.Embedding(10000, embadding_output_dim, input_length=150),\n",
        "        tf.keras.layers.GlobalAveragePooling1D(),\n",
        "        tf.keras.layers.Dense(20, activation='relu'),\n",
        "        tf.keras.layers.Dense(1, activation='sigmoid')\n",
        "])\n",
        "model.compile(loss = 'binary_crossentropy', optimizer = 'adam', metrics=['acc'])"
      ],
      "execution_count": 18,
      "outputs": []
    },
    {
      "cell_type": "code",
      "metadata": {
        "id": "k_fU_2amPPxF",
        "colab_type": "code",
        "colab": {
          "base_uri": "https://localhost:8080/",
          "height": 697
        },
        "outputId": "1448e01f-0506-4e43-d07a-4e98d74a9607"
      },
      "source": [
        "history = model.fit(train_padded_sequences, train_labels, epochs=20, validation_data=(test_padded_sequences, test_labels))"
      ],
      "execution_count": 49,
      "outputs": [
        {
          "output_type": "stream",
          "text": [
            "Epoch 1/20\n",
            "782/782 [==============================] - 4s 5ms/step - loss: 0.0849 - acc: 0.9759 - val_loss: 0.7403 - val_acc: 0.8101\n",
            "Epoch 2/20\n",
            "782/782 [==============================] - 4s 5ms/step - loss: 0.0763 - acc: 0.9795 - val_loss: 0.7977 - val_acc: 0.8042\n",
            "Epoch 3/20\n",
            "782/782 [==============================] - 4s 5ms/step - loss: 0.0687 - acc: 0.9820 - val_loss: 0.8446 - val_acc: 0.8006\n",
            "Epoch 4/20\n",
            "782/782 [==============================] - 4s 5ms/step - loss: 0.0603 - acc: 0.9856 - val_loss: 0.9147 - val_acc: 0.8000\n",
            "Epoch 5/20\n",
            "782/782 [==============================] - 4s 5ms/step - loss: 0.0541 - acc: 0.9871 - val_loss: 0.9832 - val_acc: 0.7962\n",
            "Epoch 6/20\n",
            "782/782 [==============================] - 4s 5ms/step - loss: 0.0489 - acc: 0.9880 - val_loss: 1.0322 - val_acc: 0.7937\n",
            "Epoch 7/20\n",
            "782/782 [==============================] - 4s 5ms/step - loss: 0.0427 - acc: 0.9906 - val_loss: 1.1245 - val_acc: 0.7960\n",
            "Epoch 8/20\n",
            "782/782 [==============================] - 4s 5ms/step - loss: 0.0405 - acc: 0.9906 - val_loss: 1.2130 - val_acc: 0.7950\n",
            "Epoch 9/20\n",
            "782/782 [==============================] - 4s 5ms/step - loss: 0.0367 - acc: 0.9923 - val_loss: 1.2833 - val_acc: 0.7948\n",
            "Epoch 10/20\n",
            "782/782 [==============================] - 4s 5ms/step - loss: 0.0343 - acc: 0.9921 - val_loss: 1.3150 - val_acc: 0.7901\n",
            "Epoch 11/20\n",
            "782/782 [==============================] - 4s 5ms/step - loss: 0.0304 - acc: 0.9935 - val_loss: 1.4999 - val_acc: 0.7945\n",
            "Epoch 12/20\n",
            "782/782 [==============================] - 4s 5ms/step - loss: 0.0285 - acc: 0.9938 - val_loss: 1.4704 - val_acc: 0.7920\n",
            "Epoch 13/20\n",
            "782/782 [==============================] - 4s 5ms/step - loss: 0.0272 - acc: 0.9938 - val_loss: 1.5042 - val_acc: 0.7908\n",
            "Epoch 14/20\n",
            "782/782 [==============================] - 4s 5ms/step - loss: 0.0241 - acc: 0.9948 - val_loss: 1.6136 - val_acc: 0.7915\n",
            "Epoch 15/20\n",
            "782/782 [==============================] - 4s 5ms/step - loss: 0.0239 - acc: 0.9942 - val_loss: 1.6545 - val_acc: 0.7890\n",
            "Epoch 16/20\n",
            "782/782 [==============================] - 4s 5ms/step - loss: 0.0244 - acc: 0.9936 - val_loss: 1.6527 - val_acc: 0.7862\n",
            "Epoch 17/20\n",
            "782/782 [==============================] - 4s 5ms/step - loss: 0.0228 - acc: 0.9937 - val_loss: 1.8370 - val_acc: 0.7892\n",
            "Epoch 18/20\n",
            "782/782 [==============================] - 4s 5ms/step - loss: 0.0208 - acc: 0.9946 - val_loss: 1.9315 - val_acc: 0.7894\n",
            "Epoch 19/20\n",
            "782/782 [==============================] - 4s 5ms/step - loss: 0.0195 - acc: 0.9950 - val_loss: 1.9315 - val_acc: 0.7874\n",
            "Epoch 20/20\n",
            "782/782 [==============================] - 4s 5ms/step - loss: 0.0206 - acc: 0.9940 - val_loss: 1.8843 - val_acc: 0.7873\n"
          ],
          "name": "stdout"
        }
      ]
    },
    {
      "cell_type": "code",
      "metadata": {
        "id": "_rjrE34UZ5fh",
        "colab_type": "code",
        "colab": {
          "base_uri": "https://localhost:8080/",
          "height": 563
        },
        "outputId": "5f466a78-32cb-4663-acc6-30b29703f9c3"
      },
      "source": [
        "val_loss, val_acc = model.evaluate(test_padded_sequences, test_labels)\n",
        "\n",
        "import matplotlib.pyplot as plt\n",
        "\n",
        "epochs = range(len(history.history['acc']))\n",
        "\n",
        "\n",
        "plt.figure(figsize=(11, 7))\n",
        "plt.subplot(121).plot(epochs, history.history['loss'], 'b*')\n",
        "plt.subplot(121).plot(epochs, history.history['val_loss'], 'ro')\n",
        "plt.title('Model Loss')\n",
        "plt.xlabel('Epochs')\n",
        "plt.ylabel('Loss')\n",
        "plt.legend(['Train', 'Test'], loc='upper left')\n",
        "\n",
        "plt.subplot(122).plot(epochs, history.history['acc'], 'b')\n",
        "plt.subplot(122).plot(epochs, history.history['val_acc'], 'r')\n",
        "plt.title('Model Accuracy')\n",
        "plt.xlabel('Epochs')\n",
        "plt.ylabel('Accuracy')\n",
        "plt.legend(['Train', 'Test'], loc='upper left')"
      ],
      "execution_count": 56,
      "outputs": [
        {
          "output_type": "stream",
          "text": [
            "782/782 [==============================] - 1s 1ms/step - loss: 1.8843 - acc: 0.7873\n"
          ],
          "name": "stdout"
        },
        {
          "output_type": "stream",
          "text": [
            "/usr/local/lib/python3.6/dist-packages/ipykernel_launcher.py:10: MatplotlibDeprecationWarning: Adding an axes using the same arguments as a previous axes currently reuses the earlier instance.  In a future version, a new instance will always be created and returned.  Meanwhile, this warning can be suppressed, and the future behavior ensured, by passing a unique label to each axes instance.\n",
            "  # Remove the CWD from sys.path while we load stuff.\n",
            "/usr/local/lib/python3.6/dist-packages/ipykernel_launcher.py:17: MatplotlibDeprecationWarning: Adding an axes using the same arguments as a previous axes currently reuses the earlier instance.  In a future version, a new instance will always be created and returned.  Meanwhile, this warning can be suppressed, and the future behavior ensured, by passing a unique label to each axes instance.\n"
          ],
          "name": "stderr"
        },
        {
          "output_type": "execute_result",
          "data": {
            "text/plain": [
              "<matplotlib.legend.Legend at 0x7fce1e329860>"
            ]
          },
          "metadata": {
            "tags": []
          },
          "execution_count": 56
        },
        {
          "output_type": "display_data",
          "data": {
            "image/png": "[encoded data removed]",
            "text/plain": [
              "<Figure size 792x504 with 2 Axes>"
            ]
          },
          "metadata": {
            "tags": [],
            "needs_background": "light"
          }
        }
      ]
    }
  ]
}