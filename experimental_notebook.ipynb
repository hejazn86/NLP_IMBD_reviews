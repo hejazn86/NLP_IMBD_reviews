{
  "nbformat": 4,
  "nbformat_minor": 0,
  "metadata": {
    "colab": {
      "name": "experimental_notebook.ipynb",
      "provenance": [],
      "authorship_tag": "ABX9TyMQ1oc/tRMKTYvWp7E5C5td",
      "include_colab_link": true
    },
    "kernelspec": {
      "name": "python3",
      "display_name": "Python 3"
    }
  },
  "cells": [
    {
      "cell_type": "markdown",
      "metadata": {
        "id": "view-in-github",
        "colab_type": "text"
      },
      "source": [
        "<a href=\"https://colab.research.google.com/github/hejazn86/NLP_IMBD_reviews/blob/master/experimental_notebook.ipynb\" target=\"_parent\"><img src=\"https://colab.research.google.com/assets/colab-badge.svg\" alt=\"Open In Colab\"/></a>"
      ]
    },
    {
      "cell_type": "code",
      "metadata": {
        "id": "v_1LNjY-ADd3",
        "colab_type": "code",
        "colab": {
          "base_uri": "https://localhost:8080/",
          "height": 34
        },
        "outputId": "3e23cca4-e5ea-46a4-999c-ce4af48197ed"
      },
      "source": [
        "import tensorflow as tf\n",
        "print(tf.__version__)"
      ],
      "execution_count": 1,
      "outputs": [
        {
          "output_type": "stream",
          "text": [
            "2.2.0\n"
          ],
          "name": "stdout"
        }
      ]
    },
    {
      "cell_type": "code",
      "metadata": {
        "id": "JjK5QOS4Ak7v",
        "colab_type": "code",
        "colab": {
          "base_uri": "https://localhost:8080/",
          "height": 153
        },
        "outputId": "7a4aafee-d3e1-46de-8531-8632fd9f0032"
      },
      "source": [
        "from tensorflow.keras.preprocessing.text import Tokenizer\n",
        "from tensorflow.keras.preprocessing.sequence import pad_sequences\n",
        "\n",
        "sentences = [\n",
        "             'i love my car',\n",
        "             'i love my house',\n",
        "             'you love your job',\n",
        "             'she loves her house',\n",
        "             'She likes him'\n",
        "]\n",
        "\n",
        "tokenizer = Tokenizer(num_words = 100, oov_token='unw')\n",
        "tokenizer.fit_on_texts(sentences)\n",
        "word_index = tokenizer.word_index\n",
        "print(word_index)\n",
        "\n",
        "sequences = tokenizer.texts_to_sequences(sentences)\n",
        "paded_sequens = pad_sequences(sequences)\n",
        "\n",
        "print(sequences)\n",
        "print(paded_sequens)\n",
        "print(word_index['she'])"
      ],
      "execution_count": 2,
      "outputs": [
        {
          "output_type": "stream",
          "text": [
            "{'unw': 1, 'love': 2, 'i': 3, 'my': 4, 'house': 5, 'she': 6, 'car': 7, 'you': 8, 'your': 9, 'job': 10, 'loves': 11, 'her': 12, 'likes': 13, 'him': 14}\n",
            "[[3, 2, 4, 7], [3, 2, 4, 5], [8, 2, 9, 10], [6, 11, 12, 5], [6, 13, 14]]\n",
            "[[ 3  2  4  7]\n",
            " [ 3  2  4  5]\n",
            " [ 8  2  9 10]\n",
            " [ 6 11 12  5]\n",
            " [ 0  6 13 14]]\n",
            "6\n"
          ],
          "name": "stdout"
        }
      ]
    }
  ]
}